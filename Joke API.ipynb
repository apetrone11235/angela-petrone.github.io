{
 "cells": [
  {
   "cell_type": "markdown",
   "id": "ca108b80",
   "metadata": {},
   "source": [
    "### Want to hear a joke?"
   ]
  },
  {
   "cell_type": "markdown",
   "id": "d647f1eb",
   "metadata": {},
   "source": [
    "Starting with some jokes at https://github.com/15Dkatz/official_joke_api"
   ]
  },
  {
   "cell_type": "code",
   "execution_count": 4,
   "id": "226e308f",
   "metadata": {},
   "outputs": [],
   "source": [
    "import requests"
   ]
  },
  {
   "cell_type": "code",
   "execution_count": 1,
   "id": "2ea9a66e",
   "metadata": {},
   "outputs": [],
   "source": [
    "joke_url = \"https://official-joke-api.appspot.com/jokes/programming\""
   ]
  },
  {
   "cell_type": "code",
   "execution_count": 2,
   "id": "7632ee44",
   "metadata": {},
   "outputs": [
    {
     "data": {
      "text/plain": [
       "'https://official-joke-api.appspot.com/jokes/programming/random'"
      ]
     },
     "execution_count": 2,
     "metadata": {},
     "output_type": "execute_result"
    }
   ],
   "source": [
    "random_url = joke_url + \"/random\"\n",
    "random_url"
   ]
  },
  {
   "cell_type": "code",
   "execution_count": 5,
   "id": "c619945a",
   "metadata": {},
   "outputs": [
    {
     "data": {
      "text/plain": [
       "200"
      ]
     },
     "execution_count": 5,
     "metadata": {},
     "output_type": "execute_result"
    }
   ],
   "source": [
    "response = requests.get(random_url)\n",
    "response.status_code"
   ]
  },
  {
   "cell_type": "code",
   "execution_count": 9,
   "id": "1785bcdb",
   "metadata": {},
   "outputs": [
    {
     "data": {
      "text/plain": [
       "[{'type': 'programming',\n",
       "  'setup': 'I just got fired from my job at the keyboard factory.',\n",
       "  'punchline': \"They told me I wasn't putting in enough shifts.\",\n",
       "  'id': 407}]"
      ]
     },
     "execution_count": 9,
     "metadata": {},
     "output_type": "execute_result"
    }
   ],
   "source": [
    "joke = response.json()\n",
    "joke"
   ]
  },
  {
   "cell_type": "code",
   "execution_count": 15,
   "id": "6efa58ed",
   "metadata": {
    "scrolled": false
   },
   "outputs": [
    {
     "name": "stdout",
     "output_type": "stream",
     "text": [
      "Would you like to hear a joke (Y/N)?:Y\n"
     ]
    }
   ],
   "source": [
    "question = input(\"Would you like to hear a joke (Y/N)?:\")\n",
    "\n",
    "\n"
   ]
  },
  {
   "cell_type": "code",
   "execution_count": 16,
   "id": "f2c7fbfe",
   "metadata": {},
   "outputs": [
    {
     "name": "stdout",
     "output_type": "stream",
     "text": [
      "Why do C# and Java developers keep breaking their keyboards?\n"
     ]
    }
   ],
   "source": [
    "if(response.ok is False):\n",
    "    print(\"\\nError {}:\".format(response.status_code))\n",
    "    print(response.json()['error'])\n",
    "    \n",
    "else:\n",
    "    response = requests.get(random_url)\n",
    "    joke = response.json()\n",
    "    setup = joke[0]['setup']\n",
    "    \n",
    "    \n",
    "    print(setup)"
   ]
  },
  {
   "cell_type": "code",
   "execution_count": 17,
   "id": "31536426",
   "metadata": {},
   "outputs": [
    {
     "name": "stdout",
     "output_type": "stream",
     "text": [
      "Would you like to hear the punchline (Y/N)?:Y\n"
     ]
    }
   ],
   "source": [
    "punchline = input(\"Would you like to hear the punchline (Y/N)?:\")"
   ]
  },
  {
   "cell_type": "code",
   "execution_count": 18,
   "id": "22f36fa9",
   "metadata": {},
   "outputs": [
    {
     "name": "stdout",
     "output_type": "stream",
     "text": [
      "Because they use a strongly typed language.\n"
     ]
    }
   ],
   "source": [
    "if(response.ok is False):\n",
    "    print(\"\\nError {}:\".format(response.status_code))\n",
    "    print(response.json()['error'])\n",
    "    \n",
    "else:\n",
    "    punchline = joke[0]['punchline']\n",
    "    \n",
    "    \n",
    "    print(punchline)"
   ]
  },
  {
   "cell_type": "code",
   "execution_count": null,
   "id": "9430efe7",
   "metadata": {},
   "outputs": [],
   "source": []
  },
  {
   "cell_type": "code",
   "execution_count": null,
   "id": "fd1502ee",
   "metadata": {},
   "outputs": [],
   "source": []
  }
 ],
 "metadata": {
  "kernelspec": {
   "display_name": "Python 3 (ipykernel)",
   "language": "python",
   "name": "python3"
  },
  "language_info": {
   "codemirror_mode": {
    "name": "ipython",
    "version": 3
   },
   "file_extension": ".py",
   "mimetype": "text/x-python",
   "name": "python",
   "nbconvert_exporter": "python",
   "pygments_lexer": "ipython3",
   "version": "3.9.13"
  }
 },
 "nbformat": 4,
 "nbformat_minor": 5
}
